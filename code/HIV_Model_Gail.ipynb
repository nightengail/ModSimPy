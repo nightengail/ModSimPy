{
 "cells": [
  {
   "cell_type": "markdown",
   "metadata": {},
   "source": [
    "# HIV Model\n",
    "Gail Romer"
   ]
  },
  {
   "cell_type": "code",
   "execution_count": 1,
   "metadata": {},
   "outputs": [],
   "source": [
    "# Configure Jupyter so figures appear in the notebook\n",
    "%matplotlib inline\n",
    "\n",
    "# Configure Jupyter to display the assigned value after an assignment\n",
    "%config InteractiveShell.ast_node_interactivity='last_expr_or_assign'\n",
    "\n",
    "# import functions from the modsim.py module\n",
    "from modsim import *\n"
   ]
  },
  {
   "cell_type": "code",
   "execution_count": 2,
   "metadata": {},
   "outputs": [
    {
     "data": {
      "text/plain": [
       "'\\nΑ α, Β β, Γ γ, Δ δ, Ε ε, Ζ ζ, Η η, Θ θ, Ι ι, Κ κ, Λ λ, Μ μ, Ν ν, Ξ ξ, Ο ο, Π π, Ρ ρ, Σ σ/ς, Τ τ, Υ υ, Φ φ, Χ χ, Ψ ψ, Ω ω\\n'"
      ]
     },
     "execution_count": 2,
     "metadata": {},
     "output_type": "execute_result"
    }
   ],
   "source": [
    "\"\"\"\n",
    "Α α, Β β, Γ γ, Δ δ, Ε ε, Ζ ζ, Η η, Θ θ, Ι ι, Κ κ, Λ λ, Μ μ, Ν ν, Ξ ξ, Ο ο, Π π, Ρ ρ, Σ σ/ς, Τ τ, Υ υ, Φ φ, Χ χ, Ψ ψ, Ω ω\n",
    "\"\"\""
   ]
  },
  {
   "cell_type": "code",
   "execution_count": 9,
   "metadata": {},
   "outputs": [],
   "source": [
    "cd4_lymphocytes = 200;\n",
    "latently_affected_cells = 0;\n",
    "actively_effective_cells = 0;\n",
    "free_virons=100;\n",
    "\n",
    "\n",
    "\n",
    "state = State(R = cd4_lymphocytes, L = latently_affected_cells, E = actively_effective_cells, V = free_virons)\n",
    "system = System(Γ = 1.36,               #Per Day\n",
    "                                            #constraint 1 of 'birthrate' of R\n",
    "                τ = 0.2,                #Per Day\n",
    "                                            #constraint 2 of 'birthrate' of R\n",
    "                μ = 0.00136,       #Per Day                             \n",
    "                                            #deathrate of R and L (proportional to R and L themselves)\n",
    "                Β = 0.00027,            #Per Viron\n",
    "                                            #transitionrate from R to either E or L \n",
    "                    #Thats a beta, copy paste\n",
    "                ρ = 0.1,                #Per Day\n",
    "                                            #transitionrate of ΒR to L (proportional to free virons) (1-rho is transition rate of BR to E) \n",
    "                α = 0.036,        #Per Day\n",
    "                                            #transitionrate of L to E\n",
    "                δ = 0.33,               #Per Day\n",
    "                                            #deathrate of E (proportional to E itself)\n",
    "                π = 100,                #Per Day\n",
    "                                            #'birthrate' of V (proportional to E) \n",
    "                σ = 2,                   #Per Day \n",
    "                                            #deathrate of V (proportional to V itself)\n",
    "                t_0 = 0,\n",
    "                \n",
    "                t_end = 1000,\n",
    "                \n",
    "                dt = 0.01\n",
    "               );"
   ]
  },
  {
   "cell_type": "code",
   "execution_count": 19,
   "metadata": {},
   "outputs": [],
   "source": [
    "def update_func(state, t, system):\n",
    "    \"\"\"INFORMATION\n",
    "    Update r, l, e, v population numbers\n",
    "    \n",
    "    state = (R, L, E, V)\n",
    "    t = time\n",
    "    system = system object\n",
    "    \"\"\" \n",
    "    R, L, E, V = state\n",
    "    unpack(system)\n",
    "\n",
    "#     R = Γτ - μR - ΒRV;\n",
    "    r_ = (Γ*τ - μ*R - Β*R*V) * dt\n",
    "#     L = ρΒRV - μL - αL;\n",
    "    l_ = (ρ*Β*R*V - μ*L - α*L) * dt\n",
    "#     E = (1-ρ)ΒRV + αL - δE;\n",
    "    e_ = ((1-ρ)*Β*R*V + α*L - δ*E) * dt\n",
    "#     V = πE - σV;\n",
    "    v_ = (π*E - σ*V) * dt\n",
    "\n",
    "    r = R + r_\n",
    "    l = L + l_ \n",
    "    e = E + e_\n",
    "    v = V + v_\n",
    "   \n",
    "    \n",
    "    return State(R=r, L=l, E=e, V=v)"
   ]
  },
  {
   "cell_type": "code",
   "execution_count": 11,
   "metadata": {},
   "outputs": [
    {
     "data": {
      "text/html": [
       "<div>\n",
       "<style scoped>\n",
       "    .dataframe tbody tr th:only-of-type {\n",
       "        vertical-align: middle;\n",
       "    }\n",
       "\n",
       "    .dataframe tbody tr th {\n",
       "        vertical-align: top;\n",
       "    }\n",
       "\n",
       "    .dataframe thead th {\n",
       "        text-align: right;\n",
       "    }\n",
       "</style>\n",
       "<table border=\"1\" class=\"dataframe\">\n",
       "  <thead>\n",
       "    <tr style=\"text-align: right;\">\n",
       "      <th></th>\n",
       "      <th>values</th>\n",
       "    </tr>\n",
       "  </thead>\n",
       "  <tbody>\n",
       "    <tr>\n",
       "      <th>R</th>\n",
       "      <td>199.9460</td>\n",
       "    </tr>\n",
       "    <tr>\n",
       "      <th>L</th>\n",
       "      <td>0.0054</td>\n",
       "    </tr>\n",
       "    <tr>\n",
       "      <th>E</th>\n",
       "      <td>0.0486</td>\n",
       "    </tr>\n",
       "    <tr>\n",
       "      <th>V</th>\n",
       "      <td>98.0000</td>\n",
       "    </tr>\n",
       "  </tbody>\n",
       "</table>\n",
       "</div>"
      ],
      "text/plain": [
       "R    199.9460\n",
       "L      0.0054\n",
       "E      0.0486\n",
       "V     98.0000\n",
       "dtype: float64"
      ]
     },
     "execution_count": 11,
     "metadata": {},
     "output_type": "execute_result"
    }
   ],
   "source": [
    "new = update_func(state, system.t_0, system)"
   ]
  },
  {
   "cell_type": "code",
   "execution_count": 12,
   "metadata": {},
   "outputs": [],
   "source": [
    "def run_simulation(system, update_func):\n",
    "    \"\"\"Runs a simulation of the system.\n",
    "        \n",
    "    system: System object\n",
    "    update_func: function that updates state\n",
    "    \n",
    "    returns: TimeFrame\n",
    "    \"\"\"\n",
    "    unpack(system)\n",
    "    \n",
    "    frame = TimeFrame(columns=state.index)\n",
    "    frame.row[t_0] = state\n",
    "    \n",
    "    for t in linrange(t_0, t_end):\n",
    "        frame.row[t+1] = update_func(frame.row[t], t, system)\n",
    "    \n",
    "    return frame\n"
   ]
  },
  {
   "cell_type": "code",
   "execution_count": 16,
   "metadata": {},
   "outputs": [],
   "source": [
    "def plot_data(data):\n",
    "    unpack(data)\n",
    "    plot(R, label=\"R\")\n",
    "    plot(L, label=\"L\")\n",
    "    plot(E, label=\"E\")\n",
    "    decorate(xlabel = \"0.01 days\",\n",
    "            ylabel = \"Cell Populations\",\n",
    "            title=\"R, L, & E Populations\")"
   ]
  },
  {
   "cell_type": "code",
   "execution_count": 18,
   "metadata": {},
   "outputs": [
    {
     "data": {
      "image/png": "[encoded data removed]",
      "text/plain": [
       "<Figure size 432x288 with 1 Axes>"
      ]
     },
     "metadata": {
      "needs_background": "light"
     },
     "output_type": "display_data"
    }
   ],
   "source": [
    "something = run_simulation(system, update_func)\n",
    "plot_data(something)"
   ]
  },
  {
   "cell_type": "code",
   "execution_count": null,
   "metadata": {},
   "outputs": [],
   "source": []
  }
 ],
 "metadata": {
  "kernelspec": {
   "display_name": "Python 3",
   "language": "python",
   "name": "python3"
  },
  "language_info": {
   "codemirror_mode": {
    "name": "ipython",
    "version": 3
   },
   "file_extension": ".py",
   "mimetype": "text/x-python",
   "name": "python",
   "nbconvert_exporter": "python",
   "pygments_lexer": "ipython3",
   "version": "3.6.6"
  }
 },
 "nbformat": 4,
 "nbformat_minor": 2
}
