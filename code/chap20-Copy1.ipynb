{
 "cells": [
  {
   "cell_type": "markdown",
   "metadata": {},
   "source": [
    "# Modeling and Simulation in Python\n",
    "\n",
    "Chapter 20\n",
    "\n",
    "Copyright 2017 Allen Downey\n",
    "\n",
    "License: [Creative Commons Attribution 4.0 International](https://creativecommons.org/licenses/by/4.0)\n"
   ]
  },
  {
   "cell_type": "code",
   "execution_count": 3,
   "metadata": {},
   "outputs": [],
   "source": [
    "# Configure Jupyter so figures appear in the notebook\n",
    "%matplotlib inline\n",
    "\n",
    "# Configure Jupyter to display the assigned value after an assignment\n",
    "%config InteractiveShell.ast_node_interactivity='last_expr_or_assign'\n",
    "\n",
    "# import functions from the modsim.py module\n",
    "from modsim import *"
   ]
  },
  {
   "cell_type": "markdown",
   "metadata": {},
   "source": [
    "### Exercises\n",
    "\n",
    "**Exercise:** Here's a question from the web site [Ask an Astronomer](http://curious.astro.cornell.edu/about-us/39-our-solar-system/the-earth/other-catastrophes/57-how-long-would-it-take-the-earth-to-fall-into-the-sun-intermediate):\n",
    "\n",
    "\"If the Earth suddenly stopped orbiting the Sun, I know eventually it would be pulled in by the Sun's gravity and hit it. How long would it take the Earth to hit the Sun? I imagine it would go slowly at first and then pick up speed.\"\n",
    "\n",
    "Use `run_ode_solver` to answer this question.\n",
    "\n",
    "Here are some suggestions about how to proceed:\n",
    "\n",
    "1.  Look up the Law of Universal Gravitation and any constants you need.  I suggest you work entirely in SI units: meters, kilograms, and Newtons.\n",
    "\n",
    "2.  When the distance between the Earth and the Sun gets small, this system behaves badly, so you should use an event function to stop when the surface of Earth reaches the surface of the Sun.\n",
    "\n",
    "3. Express your answer in days, and plot the results as millions of kilometers versus days.\n",
    "\n",
    "If you read the reply by Dave Rothstein, you will see other ways to solve the problem, and a good discussion of the modeling decisions behind them.\n",
    "\n",
    "You might also be interested to know that [it's actually not that easy to get to the Sun](https://www.theatlantic.com/science/archive/2018/08/parker-solar-probe-launch-nasa/567197/)."
   ]
  },
  {
   "cell_type": "code",
   "execution_count": 4,
   "metadata": {},
   "outputs": [],
   "source": [
    "m = UNITS.meter\n",
    "s = UNITS.second\n",
    "kg = UNITS.kilogram\n",
    "N = UNITS.newton;"
   ]
  },
  {
   "cell_type": "code",
   "execution_count": 5,
   "metadata": {},
   "outputs": [
    {
     "data": {
      "text/html": [
       "<div>\n",
       "<style scoped>\n",
       "    .dataframe tbody tr th:only-of-type {\n",
       "        vertical-align: middle;\n",
       "    }\n",
       "\n",
       "    .dataframe tbody tr th {\n",
       "        vertical-align: top;\n",
       "    }\n",
       "\n",
       "    .dataframe thead th {\n",
       "        text-align: right;\n",
       "    }\n",
       "</style>\n",
       "<table border=\"1\" class=\"dataframe\">\n",
       "  <thead>\n",
       "    <tr style=\"text-align: right;\">\n",
       "      <th></th>\n",
       "      <th>values</th>\n",
       "    </tr>\n",
       "  </thead>\n",
       "  <tbody>\n",
       "    <tr>\n",
       "      <th>init</th>\n",
       "      <td>position_x                   0 meter\n",
       "position_...</td>\n",
       "    </tr>\n",
       "    <tr>\n",
       "      <th>G</th>\n",
       "      <td>6.67408e-11 meter ** 2 * newton / kilogram ** 2</td>\n",
       "    </tr>\n",
       "    <tr>\n",
       "      <th>mE</th>\n",
       "      <td>5.972e+24 kilogram</td>\n",
       "    </tr>\n",
       "    <tr>\n",
       "      <th>mS</th>\n",
       "      <td>1.989e+30 kilogram</td>\n",
       "    </tr>\n",
       "    <tr>\n",
       "      <th>r_final</th>\n",
       "      <td>701879000 meter</td>\n",
       "    </tr>\n",
       "    <tr>\n",
       "      <th>t_0</th>\n",
       "      <td>0 second</td>\n",
       "    </tr>\n",
       "    <tr>\n",
       "      <th>t_end</th>\n",
       "      <td>3.4e+07</td>\n",
       "    </tr>\n",
       "  </tbody>\n",
       "</table>\n",
       "</div>"
      ],
      "text/plain": [
       "init       position_x                   0 meter\n",
       "position_...\n",
       "G            6.67408e-11 meter ** 2 * newton / kilogram ** 2\n",
       "mE                                        5.972e+24 kilogram\n",
       "mS                                        1.989e+30 kilogram\n",
       "r_final                                      701879000 meter\n",
       "t_0                                                 0 second\n",
       "t_end                                                3.4e+07\n",
       "dtype: object"
      ]
     },
     "execution_count": 5,
     "metadata": {},
     "output_type": "execute_result"
    }
   ],
   "source": [
    "\n",
    "G=6.67408e-11 * N / kg ** 2 * m ** 2\n",
    "E_mass = 5.972e24 * kg\n",
    "S_mass = 1.989e30 * kg\n",
    "\n",
    "init_vx = 30330 * m/s\n",
    "init_vy = 0 * m/s\n",
    "init_x = 0 * m\n",
    "init_y = 149.6e9 * m\n",
    "init_state = State(position_x = init_x, position_y = init_y, velocity_x = init_vx, velocity_y = init_vy)\n",
    "\n",
    "# init_v = Vector(0 * m/s, 0 * m/s)\n",
    "# init_p = Vector(0 * m, 149.6e9 * m)\n",
    "\n",
    "# init_state = State(init_p = init_p, init_v = init_v)\n",
    "\n",
    "\n",
    "t_0 = 0*s\n",
    "# t_end = 1e10*s\n",
    "t_end = 34e6\n",
    "\n",
    "system = System(init = init_state,\n",
    "                G = G,\n",
    "                mE = E_mass, \n",
    "                mS = S_mass, \n",
    "                r_final = 701879000*m,\n",
    "                t_0 = t_0, \n",
    "                t_end = t_end)\n"
   ]
  },
  {
   "cell_type": "code",
   "execution_count": 6,
   "metadata": {},
   "outputs": [],
   "source": [
    "# def gravity_function(state, system):\n",
    "#     \"\"\"Computes Gravitational Force\"\"\"\n",
    "#     unpack(system)\n",
    "#     px, py, vx, vy = state\n",
    "    \n",
    "#     position = Vector(px,py)\n",
    "    \n",
    "#     F_magnitude = ((G*mE*mS)/(position.mag**2))/mE\n",
    "    \n",
    "\n",
    "#     position_angle = position.angle\n",
    "    \n",
    "#     Fx, Fy = pol2cart(position_angle, F_magnitude)\n",
    "    \n",
    "#     F  = Vector(Fx*(-1), Fy*(-1))\n",
    "    \n",
    "# #     d_hat = position.hat \n",
    "    \n",
    "# #     F = d_hat * F_magnitude\n",
    "    \n",
    "    \n",
    "\n",
    "#     return F\n",
    "\n",
    "\n",
    "\n",
    "\"\"\"Supposedly this is how you're supposed to do it...\"\"\"\n",
    "# def gravity_function(position, system):\n",
    "#     \"\"\"Computes Gravitational Force\"\"\"\n",
    "#     unpack(system)\n",
    "    \n",
    "#     F_magnitude = ((G*mE*mS)/(position.mag**2))/mE\n",
    "    \n",
    "\n",
    "#     F_angle = position.hat()\n",
    "    \n",
    "    \n",
    "#     F  = F_angle * F_magnitude\n",
    "    \n",
    "#     return F\n",
    "\n",
    "\"\"\"But this actually works help\"\"\"\n",
    "def gravity_function(state, system):\n",
    "    \"\"\"Computes Gravitational Force\"\"\"\n",
    "    unpack(system)\n",
    "    px, py, vx, vy = state\n",
    "    \n",
    "    position = Vector(px,py)\n",
    "    \n",
    "    F_magnitude = ((G*mE*mS)/(position.mag**2))/mE\n",
    "    \n",
    "\n",
    "    position_angle = position.angle\n",
    "    \n",
    "    Fx, Fy = pol2cart(position_angle, F_magnitude)\n",
    "    \n",
    "    F  = Vector(Fx*(-1), Fy*(-1))\n",
    "    \n",
    "    return F"
   ]
  },
  {
   "cell_type": "code",
   "execution_count": 7,
   "metadata": {},
   "outputs": [
    {
     "data": {
      "text/html": [
       "[-3.63198344e-19 -5.93147910e-03] newton/kilogram"
      ],
      "text/latex": [
       "$[-3.63198344e-19 -5.93147910e-03] \\frac{newton}{kilogram}$"
      ],
      "text/plain": [
       "<Quantity([-3.63198344e-19 -5.93147910e-03], 'newton / kilogram')>"
      ]
     },
     "execution_count": 7,
     "metadata": {},
     "output_type": "execute_result"
    }
   ],
   "source": [
    "# gravity_function(Vector(init_x,init_y), system)\n",
    "gravity_function(init_state, system)"
   ]
  },
  {
   "cell_type": "code",
   "execution_count": 8,
   "metadata": {},
   "outputs": [],
   "source": [
    "def event_function(state, t, system):\n",
    "    \"\"\"Return the distance between the edges of the Earth and the Sun.\n",
    "    \"\"\"\n",
    "    px, py, vx, vy = state    \n",
    "    \n",
    "    position = Vector(px,py)\n",
    "    \n",
    "    \n",
    "    \n",
    "    return position.mag - system.r_final"
   ]
  },
  {
   "cell_type": "code",
   "execution_count": 9,
   "metadata": {},
   "outputs": [],
   "source": [
    "def slope_function(state, t, system):\n",
    "    \"\"\"Computes Gravitational Force\"\"\"\n",
    "    \n",
    "    \n",
    "    unpack(system)\n",
    "    px, py, vx, vy = state\n",
    "    \n",
    "#     position = Vector(px,py)\n",
    "    \n",
    "#     F= gravity_function(position,system)    \n",
    "\n",
    "    F= gravity_function(state,system)    \n",
    "#     F_magnitude = F.mag\n",
    "    \n",
    "#     print(F_magnitude)\n",
    "    \n",
    "    Fx = F.x\n",
    "    Fy = F.y\n",
    "    \n",
    "    dpxdt = vx\n",
    "    \n",
    "    dpydt = vy\n",
    "    \n",
    "    dvxdt = Fx\n",
    "    \n",
    "    dvydt = Fy\n",
    "    \n",
    "    \n",
    "    return dpxdt, dpydt, dvxdt, dvydt\n",
    "\n",
    "    "
   ]
  },
  {
   "cell_type": "code",
   "execution_count": 10,
   "metadata": {},
   "outputs": [
    {
     "data": {
      "text/plain": [
       "(<Quantity(30330.0, 'meter / second')>,\n",
       " <Quantity(0.0, 'meter / second')>,\n",
       " <Quantity(-3.6319834444224144e-19, 'newton / kilogram')>,\n",
       " <Quantity(-0.00593147909577054, 'newton / kilogram')>)"
      ]
     },
     "execution_count": 10,
     "metadata": {},
     "output_type": "execute_result"
    }
   ],
   "source": [
    "slope_function(init,0,system)"
   ]
  },
  {
   "cell_type": "code",
   "execution_count": 15,
   "metadata": {},
   "outputs": [
    {
     "data": {
      "text/plain": [
       "[<matplotlib.lines.Line2D at 0x26810483da0>]"
      ]
     },
     "execution_count": 15,
     "metadata": {},
     "output_type": "execute_result"
    },
    {
     "data": {
      "image/png": "[encoded data removed]",
      "text/plain": [
       "<Figure size 432x288 with 1 Axes>"
      ]
     },
     "metadata": {
      "needs_background": "light"
     },
     "output_type": "display_data"
    }
   ],
   "source": [
    "\n",
    "results, details = run_ode_solver(system, slope_function, events = event_function, method = \"RK23\")\n",
    "plot(results.position_x, results.position_y)\n",
    "# print(results)\n",
    "# print(details)"
   ]
  },
  {
   "cell_type": "code",
   "execution_count": null,
   "metadata": {},
   "outputs": [],
   "source": []
  },
  {
   "cell_type": "code",
   "execution_count": null,
   "metadata": {},
   "outputs": [],
   "source": []
  }
 ],
 "metadata": {
  "kernelspec": {
   "display_name": "Python 3",
   "language": "python",
   "name": "python3"
  },
  "language_info": {
   "codemirror_mode": {
    "name": "ipython",
    "version": 3
   },
   "file_extension": ".py",
   "mimetype": "text/x-python",
   "name": "python",
   "nbconvert_exporter": "python",
   "pygments_lexer": "ipython3",
   "version": "3.6.6"
  }
 },
 "nbformat": 4,
 "nbformat_minor": 2
}
